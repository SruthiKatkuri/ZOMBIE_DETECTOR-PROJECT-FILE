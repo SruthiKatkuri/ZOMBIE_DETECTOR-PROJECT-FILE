{
 "cells": [
  {
   "cell_type": "markdown",
   "id": "a870b039",
   "metadata": {},
   "source": [
    "# ZOMBIE DETECTOR: Using ML to save lives during a Zombie Apocalypse\n"
   ]
  },
  {
   "cell_type": "markdown",
   "id": "a2c9e06f",
   "metadata": {},
   "source": [
    "## About Dataset\n",
    "\n",
    "### Context\n",
    "News reports suggest that the impossible has become possible…zombies have appeared on the streets! What should we do? The Centers for Disease Control and Prevention (CDC) zombie preparedness website recommends storing water, food, medication, tools, sanitation items, clothing, essential documents, and first aid supplies. Thankfully, we are CDC analysts and are prepared, but it may be too late for others!\n",
    "\n",
    "### Content\n",
    "Our team decides to identify supplies that protect people and coordinate supply distribution. A few brave data collectors volunteer to check on 200 randomly selected adults who were alive before the zombies. We have recent data for the 200 on age and sex, how many are in their household, and their rural, suburban, or urban location. Our heroic volunteers visit each home and record zombie status and preparedness. Now it's our job to figure out which supplies are associated with safety!"
   ]
  },
  {
   "cell_type": "markdown",
   "id": "90041a23",
   "metadata": {},
   "source": [
    "### Import Libraries"
   ]
  },
  {
   "cell_type": "code",
   "execution_count": 1,
   "id": "041414d1",
   "metadata": {},
   "outputs": [],
   "source": [
    "import pandas as pd\n",
    "import numpy as np\n",
    "import matplotlib.pyplot as plt\n",
    "import seaborn as sns\n",
    "\n",
    "from sklearn.model_selection import train_test_split\n",
    "from sklearn.preprocessing import LabelEncoder\n",
    "from sklearn.compose import make_column_transformer\n",
    "from sklearn.linear_model import LogisticRegression\n",
    "from sklearn.tree import DecisionTreeClassifier\n",
    "from sklearn.ensemble import RandomForestClassifier\n",
    "from sklearn.svm import SVC\n",
    "from sklearn.metrics import accuracy_score, classification_report\n",
    "\n",
    "import pickle\n",
    "\n",
    "import warnings  \n",
    "warnings.filterwarnings('ignore')"
   ]
  },
  {
   "cell_type": "markdown",
   "id": "34793080",
   "metadata": {},
   "source": [
    "### Read Data"
   ]
  },
  {
   "cell_type": "code",
   "execution_count": 2,
   "id": "973c167c",
   "metadata": {},
   "outputs": [],
   "source": [
    "zombies = pd.read_csv(\"zombies.csv\", index_col=\"zombieid\")"
   ]
  },
  {
   "cell_type": "code",
   "execution_count": 3,
   "id": "12800c84",
   "metadata": {
    "scrolled": true
   },
   "outputs": [
    {
     "data": {
      "text/html": [
       "<div>\n",
       "<style scoped>\n",
       "    .dataframe tbody tr th:only-of-type {\n",
       "        vertical-align: middle;\n",
       "    }\n",
       "\n",
       "    .dataframe tbody tr th {\n",
       "        vertical-align: top;\n",
       "    }\n",
       "\n",
       "    .dataframe thead th {\n",
       "        text-align: right;\n",
       "    }\n",
       "</style>\n",
       "<table border=\"1\" class=\"dataframe\">\n",
       "  <thead>\n",
       "    <tr style=\"text-align: right;\">\n",
       "      <th></th>\n",
       "      <th>zombie</th>\n",
       "      <th>age</th>\n",
       "      <th>sex</th>\n",
       "      <th>rurality</th>\n",
       "      <th>household</th>\n",
       "      <th>water</th>\n",
       "      <th>food</th>\n",
       "      <th>medication</th>\n",
       "      <th>tools</th>\n",
       "      <th>firstaid</th>\n",
       "      <th>sanitation</th>\n",
       "      <th>clothing</th>\n",
       "      <th>documents</th>\n",
       "    </tr>\n",
       "    <tr>\n",
       "      <th>zombieid</th>\n",
       "      <th></th>\n",
       "      <th></th>\n",
       "      <th></th>\n",
       "      <th></th>\n",
       "      <th></th>\n",
       "      <th></th>\n",
       "      <th></th>\n",
       "      <th></th>\n",
       "      <th></th>\n",
       "      <th></th>\n",
       "      <th></th>\n",
       "      <th></th>\n",
       "      <th></th>\n",
       "    </tr>\n",
       "  </thead>\n",
       "  <tbody>\n",
       "    <tr>\n",
       "      <th>1</th>\n",
       "      <td>Human</td>\n",
       "      <td>18</td>\n",
       "      <td>Female</td>\n",
       "      <td>Rural</td>\n",
       "      <td>1</td>\n",
       "      <td>0</td>\n",
       "      <td>Food</td>\n",
       "      <td>Medication</td>\n",
       "      <td>No tools</td>\n",
       "      <td>First aid supplies</td>\n",
       "      <td>Sanitation</td>\n",
       "      <td>Clothing</td>\n",
       "      <td>NaN</td>\n",
       "    </tr>\n",
       "    <tr>\n",
       "      <th>2</th>\n",
       "      <td>Human</td>\n",
       "      <td>18</td>\n",
       "      <td>Male</td>\n",
       "      <td>Rural</td>\n",
       "      <td>3</td>\n",
       "      <td>24</td>\n",
       "      <td>Food</td>\n",
       "      <td>Medication</td>\n",
       "      <td>tools</td>\n",
       "      <td>First aid supplies</td>\n",
       "      <td>Sanitation</td>\n",
       "      <td>Clothing</td>\n",
       "      <td>NaN</td>\n",
       "    </tr>\n",
       "    <tr>\n",
       "      <th>3</th>\n",
       "      <td>Human</td>\n",
       "      <td>18</td>\n",
       "      <td>Male</td>\n",
       "      <td>Rural</td>\n",
       "      <td>4</td>\n",
       "      <td>16</td>\n",
       "      <td>Food</td>\n",
       "      <td>Medication</td>\n",
       "      <td>No tools</td>\n",
       "      <td>First aid supplies</td>\n",
       "      <td>Sanitation</td>\n",
       "      <td>Clothing</td>\n",
       "      <td>NaN</td>\n",
       "    </tr>\n",
       "    <tr>\n",
       "      <th>4</th>\n",
       "      <td>Human</td>\n",
       "      <td>19</td>\n",
       "      <td>Male</td>\n",
       "      <td>Rural</td>\n",
       "      <td>1</td>\n",
       "      <td>0</td>\n",
       "      <td>Food</td>\n",
       "      <td>Medication</td>\n",
       "      <td>tools</td>\n",
       "      <td>No first aid supplies</td>\n",
       "      <td>Sanitation</td>\n",
       "      <td>Clothing</td>\n",
       "      <td>NaN</td>\n",
       "    </tr>\n",
       "    <tr>\n",
       "      <th>5</th>\n",
       "      <td>Human</td>\n",
       "      <td>19</td>\n",
       "      <td>Male</td>\n",
       "      <td>Urban</td>\n",
       "      <td>1</td>\n",
       "      <td>0</td>\n",
       "      <td>Food</td>\n",
       "      <td>Medication</td>\n",
       "      <td>No tools</td>\n",
       "      <td>First aid supplies</td>\n",
       "      <td>Sanitation</td>\n",
       "      <td>NaN</td>\n",
       "      <td>NaN</td>\n",
       "    </tr>\n",
       "    <tr>\n",
       "      <th>...</th>\n",
       "      <td>...</td>\n",
       "      <td>...</td>\n",
       "      <td>...</td>\n",
       "      <td>...</td>\n",
       "      <td>...</td>\n",
       "      <td>...</td>\n",
       "      <td>...</td>\n",
       "      <td>...</td>\n",
       "      <td>...</td>\n",
       "      <td>...</td>\n",
       "      <td>...</td>\n",
       "      <td>...</td>\n",
       "      <td>...</td>\n",
       "    </tr>\n",
       "    <tr>\n",
       "      <th>196</th>\n",
       "      <td>Zombie</td>\n",
       "      <td>68</td>\n",
       "      <td>Male</td>\n",
       "      <td>Suburban</td>\n",
       "      <td>1</td>\n",
       "      <td>0</td>\n",
       "      <td>Food</td>\n",
       "      <td>No medication</td>\n",
       "      <td>No tools</td>\n",
       "      <td>No first aid supplies</td>\n",
       "      <td>Sanitation</td>\n",
       "      <td>Clothing</td>\n",
       "      <td>Documents</td>\n",
       "    </tr>\n",
       "    <tr>\n",
       "      <th>197</th>\n",
       "      <td>Zombie</td>\n",
       "      <td>71</td>\n",
       "      <td>Male</td>\n",
       "      <td>Suburban</td>\n",
       "      <td>1</td>\n",
       "      <td>8</td>\n",
       "      <td>No food</td>\n",
       "      <td>No medication</td>\n",
       "      <td>tools</td>\n",
       "      <td>First aid supplies</td>\n",
       "      <td>No sanitation</td>\n",
       "      <td>Clothing</td>\n",
       "      <td>NaN</td>\n",
       "    </tr>\n",
       "    <tr>\n",
       "      <th>198</th>\n",
       "      <td>Zombie</td>\n",
       "      <td>76</td>\n",
       "      <td>Female</td>\n",
       "      <td>Urban</td>\n",
       "      <td>1</td>\n",
       "      <td>0</td>\n",
       "      <td>No food</td>\n",
       "      <td>No medication</td>\n",
       "      <td>tools</td>\n",
       "      <td>First aid supplies</td>\n",
       "      <td>Sanitation</td>\n",
       "      <td>Clothing</td>\n",
       "      <td>Documents</td>\n",
       "    </tr>\n",
       "    <tr>\n",
       "      <th>199</th>\n",
       "      <td>Zombie</td>\n",
       "      <td>82</td>\n",
       "      <td>Male</td>\n",
       "      <td>Urban</td>\n",
       "      <td>1</td>\n",
       "      <td>0</td>\n",
       "      <td>No food</td>\n",
       "      <td>No medication</td>\n",
       "      <td>No tools</td>\n",
       "      <td>No first aid supplies</td>\n",
       "      <td>No sanitation</td>\n",
       "      <td>NaN</td>\n",
       "      <td>NaN</td>\n",
       "    </tr>\n",
       "    <tr>\n",
       "      <th>200</th>\n",
       "      <td>Zombie</td>\n",
       "      <td>85</td>\n",
       "      <td>Male</td>\n",
       "      <td>Urban</td>\n",
       "      <td>1</td>\n",
       "      <td>0</td>\n",
       "      <td>No food</td>\n",
       "      <td>Medication</td>\n",
       "      <td>No tools</td>\n",
       "      <td>No first aid supplies</td>\n",
       "      <td>Sanitation</td>\n",
       "      <td>Clothing</td>\n",
       "      <td>NaN</td>\n",
       "    </tr>\n",
       "  </tbody>\n",
       "</table>\n",
       "<p>200 rows × 13 columns</p>\n",
       "</div>"
      ],
      "text/plain": [
       "          zombie  age     sex  rurality  household  water     food  \\\n",
       "zombieid                                                             \n",
       "1          Human   18  Female     Rural          1      0     Food   \n",
       "2          Human   18    Male     Rural          3     24     Food   \n",
       "3          Human   18    Male     Rural          4     16     Food   \n",
       "4          Human   19    Male     Rural          1      0     Food   \n",
       "5          Human   19    Male     Urban          1      0     Food   \n",
       "...          ...  ...     ...       ...        ...    ...      ...   \n",
       "196       Zombie   68    Male  Suburban          1      0     Food   \n",
       "197       Zombie   71    Male  Suburban          1      8  No food   \n",
       "198       Zombie   76  Female     Urban          1      0  No food   \n",
       "199       Zombie   82    Male     Urban          1      0  No food   \n",
       "200       Zombie   85    Male     Urban          1      0  No food   \n",
       "\n",
       "             medication     tools               firstaid     sanitation  \\\n",
       "zombieid                                                                  \n",
       "1            Medication  No tools     First aid supplies     Sanitation   \n",
       "2            Medication     tools     First aid supplies     Sanitation   \n",
       "3            Medication  No tools     First aid supplies     Sanitation   \n",
       "4            Medication     tools  No first aid supplies     Sanitation   \n",
       "5            Medication  No tools     First aid supplies     Sanitation   \n",
       "...                 ...       ...                    ...            ...   \n",
       "196       No medication  No tools  No first aid supplies     Sanitation   \n",
       "197       No medication     tools     First aid supplies  No sanitation   \n",
       "198       No medication     tools     First aid supplies     Sanitation   \n",
       "199       No medication  No tools  No first aid supplies  No sanitation   \n",
       "200          Medication  No tools  No first aid supplies     Sanitation   \n",
       "\n",
       "          clothing  documents  \n",
       "zombieid                       \n",
       "1         Clothing        NaN  \n",
       "2         Clothing        NaN  \n",
       "3         Clothing        NaN  \n",
       "4         Clothing        NaN  \n",
       "5              NaN        NaN  \n",
       "...            ...        ...  \n",
       "196       Clothing  Documents  \n",
       "197       Clothing        NaN  \n",
       "198       Clothing  Documents  \n",
       "199            NaN        NaN  \n",
       "200       Clothing        NaN  \n",
       "\n",
       "[200 rows x 13 columns]"
      ]
     },
     "execution_count": 3,
     "metadata": {},
     "output_type": "execute_result"
    }
   ],
   "source": [
    "zombies"
   ]
  },
  {
   "cell_type": "markdown",
   "id": "e5e1def1",
   "metadata": {},
   "source": [
    "## Exploratory Data Analysis"
   ]
  },
  {
   "cell_type": "code",
   "execution_count": 4,
   "id": "d12eb78d",
   "metadata": {
    "scrolled": false
   },
   "outputs": [
    {
     "name": "stdout",
     "output_type": "stream",
     "text": [
      "              age   household       water\n",
      "count  200.000000  200.000000  200.000000\n",
      "mean    44.415000    2.680000    8.750000\n",
      "std     17.371865    1.263162   12.069626\n",
      "min     18.000000    1.000000    0.000000\n",
      "25%     29.000000    2.000000    0.000000\n",
      "50%     42.000000    2.500000    8.000000\n",
      "75%     58.000000    4.000000    8.000000\n",
      "max     85.000000    6.000000   40.000000\n"
     ]
    }
   ],
   "source": [
    "# Descriptive Analytics\n",
    "print(zombies.describe())"
   ]
  },
  {
   "cell_type": "code",
   "execution_count": 5,
   "id": "4e3a4fcc",
   "metadata": {
    "scrolled": false
   },
   "outputs": [
    {
     "data": {
      "image/png": "[encoded data removed]",
      "text/plain": [
       "<Figure size 1200x500 with 1 Axes>"
      ]
     },
     "metadata": {},
     "output_type": "display_data"
    }
   ],
   "source": [
    "#Plotting Age\n",
    "fig = plt.figure(figsize=(12,5))\n",
    "sns.distplot(zombies['age'])\n",
    "plt.show()"
   ]
  },
  {
   "cell_type": "code",
   "execution_count": 6,
   "id": "d4d6525b",
   "metadata": {},
   "outputs": [
    {
     "data": {
      "image/png": "[encoded data removed]",
      "text/plain": [
       "<Figure size 500x500 with 1 Axes>"
      ]
     },
     "metadata": {},
     "output_type": "display_data"
    }
   ],
   "source": [
    "#Plotting Rurality\n",
    "fig = plt.figure(figsize=(5,5))\n",
    "sns.countplot(x=zombies['rurality'], data=zombies['rurality'], hue=zombies['rurality'])\n",
    "plt.show()"
   ]
  },
  {
   "cell_type": "markdown",
   "id": "19db758c",
   "metadata": {},
   "source": [
    "### Compare humans and zombies - Part 1\n",
    "\n",
    "Because every moment counts when dealing with life and (un)death, we want to get this right! The first task is to compare humans and zombies to identify differences in supplies. We review the data and find the following:"
   ]
  },
  {
   "cell_type": "code",
   "execution_count": 7,
   "id": "d4897d21",
   "metadata": {},
   "outputs": [
    {
     "name": "stdout",
     "output_type": "stream",
     "text": [
      "count    200.000000\n",
      "mean       3.091833\n",
      "std        3.627677\n",
      "min        0.000000\n",
      "25%        0.000000\n",
      "50%        2.000000\n",
      "75%        5.333333\n",
      "max       13.333333\n",
      "Name: water.person, dtype: float64\n"
     ]
    }
   ],
   "source": [
    "# Create water-per-person\n",
    "zombies['water.person'] = zombies['water'] / zombies['household']\n",
    "\n",
    "# Examine the new variable \n",
    "print(zombies['water.person'].describe())"
   ]
  },
  {
   "cell_type": "code",
   "execution_count": 8,
   "id": "3143c08a",
   "metadata": {},
   "outputs": [
    {
     "data": {
      "image/png": "[encoded data removed]",
      "text/plain": [
       "<Figure size 640x480 with 2 Axes>"
      ]
     },
     "metadata": {},
     "output_type": "display_data"
    }
   ],
   "source": [
    "# Create the ageZombies graph\n",
    "f, (ageZombies, waterPersonZom) = plt.subplots(1, 2, sharey=True)\n",
    "ageZombies = sns.kdeplot(data = zombies, x = \"age\", fill = True, hue = \"zombie\", ax=ageZombies) \n",
    "ageZombies.set(title=\"Age vs Zombies\", xlabel=\"Age\", ylabel=\"Density\")\n",
    "\n",
    "# Create the waterPersonZom graph\n",
    "waterPersonZom = sns.kdeplot(data = zombies, x = \"water.person\", fill = True, hue = \"zombie\", ax=waterPersonZom) \n",
    "waterPersonZom.set(title=\"Water vs Zombies\", xlabel=\"Water per person\", ylabel=\"Density\")\n",
    "\n",
    "plt.show()"
   ]
  },
  {
   "cell_type": "markdown",
   "id": "17a5c448",
   "metadata": {},
   "source": [
    "It looks like those who turned into zombies were older and had less available clean water. This suggests that getting water to the remaining humans might help protect them from the zombie hoards! Protecting older citizens is important, so we need to think about the best ways to reach this group."
   ]
  },
  {
   "cell_type": "markdown",
   "id": "df0eb725",
   "metadata": {},
   "source": [
    "### Compare Humans and Zombies - Part 2\n",
    "\n",
    "Other than age and water, what are the other characteristics and supplies that differ between humans and zombies? Do zombies live in urban areas? Or are they more common in rural areas? Is water critical to staying human? Is food critical to staying human?"
   ]
  },
  {
   "cell_type": "code",
   "execution_count": 9,
   "id": "1445ca4a",
   "metadata": {
    "scrolled": false
   },
   "outputs": [
    {
     "name": "stdout",
     "output_type": "stream",
     "text": [
      "zombie  Human  Zombie\n",
      "zombie               \n",
      "Human     1.0     0.0\n",
      "Zombie    0.0     1.0 \n",
      "\n",
      "zombie     Human    Zombie\n",
      "sex                       \n",
      "Female  0.626263  0.373737\n",
      "Male    0.584158  0.415842 \n",
      "\n",
      "zombie       Human    Zombie\n",
      "rurality                    \n",
      "Rural     0.816327  0.183673\n",
      "Suburban  0.520833  0.479167\n",
      "Urban     0.296296  0.703704 \n",
      "\n",
      "zombie      Human    Zombie\n",
      "food                       \n",
      "Food     0.827273  0.172727\n",
      "No food  0.333333  0.666667 \n",
      "\n",
      "zombie            Human    Zombie\n",
      "medication                       \n",
      "Medication     0.829787  0.170213\n",
      "No medication  0.405660  0.594340 \n",
      "\n",
      "zombie       Human    Zombie\n",
      "tools                       \n",
      "No tools  0.603960  0.396040\n",
      "tools     0.606061  0.393939 \n",
      "\n",
      "zombie                    Human    Zombie\n",
      "firstaid                                 \n",
      "First aid supplies     0.632075  0.367925\n",
      "No first aid supplies  0.574468  0.425532 \n",
      "\n",
      "zombie            Human    Zombie\n",
      "sanitation                       \n",
      "No sanitation  0.470588  0.529412\n",
      "Sanitation     0.744898  0.255102 \n",
      "\n",
      "zombie       Human    Zombie\n",
      "clothing                    \n",
      "Clothing  0.587302  0.412698 \n",
      "\n",
      "zombie        Human    Zombie\n",
      "documents                    \n",
      "Documents  0.666667  0.333333 \n",
      "\n"
     ]
    }
   ],
   "source": [
    "#Compare categorical Features\n",
    "zombies_factors = zombies.select_dtypes(include='object')\n",
    "# Write a function to get percent zombies\n",
    "perc_zombies = [pd.crosstab(zombies_factors[x],zombies['zombie'], normalize='index') \n",
    "                for x in zombies_factors.columns\n",
    "               ]\n",
    "# Print the data\n",
    "for df in perc_zombies:\n",
    "    print(df,\"\\n\")"
   ]
  },
  {
   "cell_type": "code",
   "execution_count": 10,
   "id": "8692a952",
   "metadata": {},
   "outputs": [
    {
     "data": {
      "text/plain": [
       "<AxesSubplot:>"
      ]
     },
     "execution_count": 10,
     "metadata": {},
     "output_type": "execute_result"
    },
    {
     "data": {
      "image/png": "[encoded data removed]",
      "text/plain": [
       "<Figure size 640x480 with 2 Axes>"
      ]
     },
     "metadata": {},
     "output_type": "display_data"
    }
   ],
   "source": [
    "sns.heatmap(zombies.corr(),annot=True)"
   ]
  },
  {
   "cell_type": "markdown",
   "id": "57c2d99a",
   "metadata": {},
   "source": [
    "## Data Preprocessing: Recode variables & missing values"
   ]
  },
  {
   "cell_type": "code",
   "execution_count": 260,
   "id": "316e0e41",
   "metadata": {},
   "outputs": [
    {
     "data": {
      "text/plain": [
       "(200, 14)"
      ]
     },
     "execution_count": 260,
     "metadata": {},
     "output_type": "execute_result"
    }
   ],
   "source": [
    "zombies.shape"
   ]
  },
  {
   "cell_type": "code",
   "execution_count": 261,
   "id": "45647421",
   "metadata": {
    "scrolled": false
   },
   "outputs": [
    {
     "name": "stdout",
     "output_type": "stream",
     "text": [
      "<class 'pandas.core.frame.DataFrame'>\n",
      "Index: 200 entries, 1 to 200\n",
      "Data columns (total 14 columns):\n",
      " #   Column        Non-Null Count  Dtype  \n",
      "---  ------        --------------  -----  \n",
      " 0   zombie        200 non-null    object \n",
      " 1   age           200 non-null    int64  \n",
      " 2   sex           200 non-null    object \n",
      " 3   rurality      200 non-null    object \n",
      " 4   household     200 non-null    int64  \n",
      " 5   water         200 non-null    int64  \n",
      " 6   food          200 non-null    object \n",
      " 7   medication    200 non-null    object \n",
      " 8   tools         200 non-null    object \n",
      " 9   firstaid      200 non-null    object \n",
      " 10  sanitation    200 non-null    object \n",
      " 11  clothing      126 non-null    object \n",
      " 12  documents     66 non-null     object \n",
      " 13  water.person  200 non-null    float64\n",
      "dtypes: float64(1), int64(3), object(10)\n",
      "memory usage: 31.5+ KB\n"
     ]
    }
   ],
   "source": [
    "zombies.info()"
   ]
  },
  {
   "cell_type": "code",
   "execution_count": 262,
   "id": "cd709272",
   "metadata": {
    "scrolled": false
   },
   "outputs": [
    {
     "data": {
      "text/plain": [
       "zombie            0\n",
       "age               0\n",
       "sex               0\n",
       "rurality          0\n",
       "household         0\n",
       "water             0\n",
       "food              0\n",
       "medication        0\n",
       "tools             0\n",
       "firstaid          0\n",
       "sanitation        0\n",
       "clothing         74\n",
       "documents       134\n",
       "water.person      0\n",
       "dtype: int64"
      ]
     },
     "execution_count": 262,
     "metadata": {},
     "output_type": "execute_result"
    }
   ],
   "source": [
    "#Check for null values\n",
    "np.sum(zombies.isnull())"
   ]
  },
  {
   "cell_type": "code",
   "execution_count": 263,
   "id": "63d35f99",
   "metadata": {
    "scrolled": false
   },
   "outputs": [
    {
     "name": "stdout",
     "output_type": "stream",
     "text": [
      "Data type of each column of timesData Dataframe :\n",
      "zombie           object\n",
      "age               int64\n",
      "sex              object\n",
      "rurality         object\n",
      "household         int64\n",
      "water             int64\n",
      "food             object\n",
      "medication       object\n",
      "tools            object\n",
      "firstaid         object\n",
      "sanitation       object\n",
      "clothing         object\n",
      "documents        object\n",
      "water.person    float64\n",
      "dtype: object\n"
     ]
    }
   ],
   "source": [
    "#Check datatype of all features\n",
    "dataTypeSeries = zombies.dtypes\n",
    "print('Data type of each column of timesData Dataframe :')\n",
    "print(dataTypeSeries)"
   ]
  },
  {
   "cell_type": "code",
   "execution_count": 264,
   "id": "deed41f1",
   "metadata": {},
   "outputs": [],
   "source": [
    "#Convert Columns with null values into data type category\n",
    "for col in ['clothing', 'documents']:\n",
    "    zombies[col] = zombies[col].astype('category')"
   ]
  },
  {
   "cell_type": "code",
   "execution_count": 265,
   "id": "5b4e3597",
   "metadata": {
    "scrolled": false
   },
   "outputs": [
    {
     "name": "stdout",
     "output_type": "stream",
     "text": [
      "Data type of each column of timesData Dataframe :\n",
      "zombie            object\n",
      "age                int64\n",
      "sex               object\n",
      "rurality          object\n",
      "household          int64\n",
      "water              int64\n",
      "food              object\n",
      "medication        object\n",
      "tools             object\n",
      "firstaid          object\n",
      "sanitation        object\n",
      "clothing        category\n",
      "documents       category\n",
      "water.person     float64\n",
      "dtype: object\n"
     ]
    }
   ],
   "source": [
    "#Check if conversion successfull    \n",
    "dataTypeSeries = zombies.dtypes\n",
    "print('Data type of each column of timesData Dataframe :')\n",
    "print(dataTypeSeries)"
   ]
  },
  {
   "cell_type": "code",
   "execution_count": null,
   "id": "5d598dd9",
   "metadata": {},
   "outputs": [],
   "source": []
  },
  {
   "cell_type": "code",
   "execution_count": 266,
   "id": "35122dd1",
   "metadata": {
    "scrolled": true
   },
   "outputs": [
    {
     "data": {
      "text/plain": [
       "zombie          0\n",
       "age             0\n",
       "sex             0\n",
       "rurality        0\n",
       "household       0\n",
       "water           0\n",
       "food            0\n",
       "medication      0\n",
       "tools           0\n",
       "firstaid        0\n",
       "sanitation      0\n",
       "clothing        0\n",
       "documents       0\n",
       "water.person    0\n",
       "dtype: int64"
      ]
     },
     "execution_count": 266,
     "metadata": {},
     "output_type": "execute_result"
    }
   ],
   "source": [
    "# Add new level and recode NA to \"No clothing\"\n",
    "zombies[\"clothing\"] = pd.Categorical(zombies[\"clothing\"], categories=pd.unique(zombies[\"clothing\"].cat.categories.append(pd.Index([\"No clothing\"]))))\n",
    "zombies['clothing'].fillna('No clothing', inplace=True)\n",
    "\n",
    "# Add new level and recode NA to \"No documents\"\n",
    "zombies[\"documents\"] = pd.Categorical(zombies[\"documents\"], categories=pd.unique(zombies[\"documents\"].cat.categories.append(pd.Index([\"No documents\"]))))\n",
    "zombies['documents'].fillna('No documents', inplace=True)\n",
    "\n",
    "# Check recoding\n",
    "np.sum(zombies.isnull())"
   ]
  },
  {
   "cell_type": "code",
   "execution_count": 12,
   "id": "7a1dbffd",
   "metadata": {},
   "outputs": [],
   "source": [
    "# Initializing LabelEncoder object\n",
    "le = LabelEncoder()\n",
    "\n",
    "# Converting categorical columns to numerical using Label Encoding\n",
    "zombies['sex'] = le.fit_transform(zombies['sex'])\n",
    "zombies['rurality'] = le.fit_transform(zombies['rurality'])\n",
    "zombies['food'] = le.fit_transform(zombies['food'])\n",
    "zombies['medication'] = le.fit_transform(zombies['medication'])\n",
    "zombies['tools'] = le.fit_transform(zombies['tools'])\n",
    "zombies['firstaid'] = le.fit_transform(zombies['firstaid'])\n",
    "zombies['sanitation'] = le.fit_transform(zombies['sanitation'])\n",
    "zombies['clothing'] = le.fit_transform(zombies['clothing'])\n",
    "zombies['documents'] = le.fit_transform(zombies['documents'])"
   ]
  },
  {
   "cell_type": "code",
   "execution_count": 13,
   "id": "99f7f477",
   "metadata": {},
   "outputs": [
    {
     "data": {
      "text/html": [
       "<div>\n",
       "<style scoped>\n",
       "    .dataframe tbody tr th:only-of-type {\n",
       "        vertical-align: middle;\n",
       "    }\n",
       "\n",
       "    .dataframe tbody tr th {\n",
       "        vertical-align: top;\n",
       "    }\n",
       "\n",
       "    .dataframe thead th {\n",
       "        text-align: right;\n",
       "    }\n",
       "</style>\n",
       "<table border=\"1\" class=\"dataframe\">\n",
       "  <thead>\n",
       "    <tr style=\"text-align: right;\">\n",
       "      <th></th>\n",
       "      <th>zombie</th>\n",
       "      <th>age</th>\n",
       "      <th>sex</th>\n",
       "      <th>rurality</th>\n",
       "      <th>household</th>\n",
       "      <th>water</th>\n",
       "      <th>food</th>\n",
       "      <th>medication</th>\n",
       "      <th>tools</th>\n",
       "      <th>firstaid</th>\n",
       "      <th>sanitation</th>\n",
       "      <th>clothing</th>\n",
       "      <th>documents</th>\n",
       "      <th>water.person</th>\n",
       "    </tr>\n",
       "    <tr>\n",
       "      <th>zombieid</th>\n",
       "      <th></th>\n",
       "      <th></th>\n",
       "      <th></th>\n",
       "      <th></th>\n",
       "      <th></th>\n",
       "      <th></th>\n",
       "      <th></th>\n",
       "      <th></th>\n",
       "      <th></th>\n",
       "      <th></th>\n",
       "      <th></th>\n",
       "      <th></th>\n",
       "      <th></th>\n",
       "      <th></th>\n",
       "    </tr>\n",
       "  </thead>\n",
       "  <tbody>\n",
       "    <tr>\n",
       "      <th>1</th>\n",
       "      <td>Human</td>\n",
       "      <td>18</td>\n",
       "      <td>0</td>\n",
       "      <td>0</td>\n",
       "      <td>1</td>\n",
       "      <td>0</td>\n",
       "      <td>0</td>\n",
       "      <td>0</td>\n",
       "      <td>0</td>\n",
       "      <td>0</td>\n",
       "      <td>1</td>\n",
       "      <td>0</td>\n",
       "      <td>1</td>\n",
       "      <td>0.0</td>\n",
       "    </tr>\n",
       "    <tr>\n",
       "      <th>2</th>\n",
       "      <td>Human</td>\n",
       "      <td>18</td>\n",
       "      <td>1</td>\n",
       "      <td>0</td>\n",
       "      <td>3</td>\n",
       "      <td>24</td>\n",
       "      <td>0</td>\n",
       "      <td>0</td>\n",
       "      <td>1</td>\n",
       "      <td>0</td>\n",
       "      <td>1</td>\n",
       "      <td>0</td>\n",
       "      <td>1</td>\n",
       "      <td>8.0</td>\n",
       "    </tr>\n",
       "    <tr>\n",
       "      <th>3</th>\n",
       "      <td>Human</td>\n",
       "      <td>18</td>\n",
       "      <td>1</td>\n",
       "      <td>0</td>\n",
       "      <td>4</td>\n",
       "      <td>16</td>\n",
       "      <td>0</td>\n",
       "      <td>0</td>\n",
       "      <td>0</td>\n",
       "      <td>0</td>\n",
       "      <td>1</td>\n",
       "      <td>0</td>\n",
       "      <td>1</td>\n",
       "      <td>4.0</td>\n",
       "    </tr>\n",
       "    <tr>\n",
       "      <th>4</th>\n",
       "      <td>Human</td>\n",
       "      <td>19</td>\n",
       "      <td>1</td>\n",
       "      <td>0</td>\n",
       "      <td>1</td>\n",
       "      <td>0</td>\n",
       "      <td>0</td>\n",
       "      <td>0</td>\n",
       "      <td>1</td>\n",
       "      <td>1</td>\n",
       "      <td>1</td>\n",
       "      <td>0</td>\n",
       "      <td>1</td>\n",
       "      <td>0.0</td>\n",
       "    </tr>\n",
       "    <tr>\n",
       "      <th>5</th>\n",
       "      <td>Human</td>\n",
       "      <td>19</td>\n",
       "      <td>1</td>\n",
       "      <td>2</td>\n",
       "      <td>1</td>\n",
       "      <td>0</td>\n",
       "      <td>0</td>\n",
       "      <td>0</td>\n",
       "      <td>0</td>\n",
       "      <td>0</td>\n",
       "      <td>1</td>\n",
       "      <td>1</td>\n",
       "      <td>1</td>\n",
       "      <td>0.0</td>\n",
       "    </tr>\n",
       "  </tbody>\n",
       "</table>\n",
       "</div>"
      ],
      "text/plain": [
       "         zombie  age  sex  rurality  household  water  food  medication  \\\n",
       "zombieid                                                                  \n",
       "1         Human   18    0         0          1      0     0           0   \n",
       "2         Human   18    1         0          3     24     0           0   \n",
       "3         Human   18    1         0          4     16     0           0   \n",
       "4         Human   19    1         0          1      0     0           0   \n",
       "5         Human   19    1         2          1      0     0           0   \n",
       "\n",
       "          tools  firstaid  sanitation  clothing  documents  water.person  \n",
       "zombieid                                                                  \n",
       "1             0         0           1         0          1           0.0  \n",
       "2             1         0           1         0          1           8.0  \n",
       "3             0         0           1         0          1           4.0  \n",
       "4             1         1           1         0          1           0.0  \n",
       "5             0         0           1         1          1           0.0  "
      ]
     },
     "execution_count": 13,
     "metadata": {},
     "output_type": "execute_result"
    }
   ],
   "source": [
    "zombies.head()"
   ]
  },
  {
   "cell_type": "markdown",
   "id": "fde0f6c3",
   "metadata": {},
   "source": [
    "## Build Model"
   ]
  },
  {
   "cell_type": "code",
   "execution_count": 14,
   "id": "14a88f65",
   "metadata": {
    "scrolled": false
   },
   "outputs": [],
   "source": [
    "# Splitting data into features and target\n",
    "X = zombies.drop(['zombie','water.person'], axis=1)\n",
    "y = zombies['zombie']"
   ]
  },
  {
   "cell_type": "code",
   "execution_count": 268,
   "id": "f9d73b98",
   "metadata": {},
   "outputs": [],
   "source": [
    "# Initializing LabelEncoder object\n",
    "le = LabelEncoder()\n",
    "\n",
    "# Converting categorical columns to numerical using Label Encoding\n",
    "X['sex'] = le.fit_transform(X['sex'])\n",
    "X['rurality'] = le.fit_transform(X['rurality'])\n",
    "X['food'] = le.fit_transform(X['food'])\n",
    "X['medication'] = le.fit_transform(X['medication'])\n",
    "X['tools'] = le.fit_transform(X['tools'])\n",
    "X['firstaid'] = le.fit_transform(X['firstaid'])\n",
    "X['sanitation'] = le.fit_transform(X['sanitation'])\n",
    "X['clothing'] = le.fit_transform(X['clothing'])\n",
    "X['documents'] = le.fit_transform(X['documents'])"
   ]
  },
  {
   "cell_type": "code",
   "execution_count": 15,
   "id": "cccf10d7",
   "metadata": {},
   "outputs": [
    {
     "data": {
      "text/html": [
       "<div>\n",
       "<style scoped>\n",
       "    .dataframe tbody tr th:only-of-type {\n",
       "        vertical-align: middle;\n",
       "    }\n",
       "\n",
       "    .dataframe tbody tr th {\n",
       "        vertical-align: top;\n",
       "    }\n",
       "\n",
       "    .dataframe thead th {\n",
       "        text-align: right;\n",
       "    }\n",
       "</style>\n",
       "<table border=\"1\" class=\"dataframe\">\n",
       "  <thead>\n",
       "    <tr style=\"text-align: right;\">\n",
       "      <th></th>\n",
       "      <th>age</th>\n",
       "      <th>sex</th>\n",
       "      <th>rurality</th>\n",
       "      <th>household</th>\n",
       "      <th>water</th>\n",
       "      <th>food</th>\n",
       "      <th>medication</th>\n",
       "      <th>tools</th>\n",
       "      <th>firstaid</th>\n",
       "      <th>sanitation</th>\n",
       "      <th>clothing</th>\n",
       "      <th>documents</th>\n",
       "    </tr>\n",
       "    <tr>\n",
       "      <th>zombieid</th>\n",
       "      <th></th>\n",
       "      <th></th>\n",
       "      <th></th>\n",
       "      <th></th>\n",
       "      <th></th>\n",
       "      <th></th>\n",
       "      <th></th>\n",
       "      <th></th>\n",
       "      <th></th>\n",
       "      <th></th>\n",
       "      <th></th>\n",
       "      <th></th>\n",
       "    </tr>\n",
       "  </thead>\n",
       "  <tbody>\n",
       "    <tr>\n",
       "      <th>1</th>\n",
       "      <td>18</td>\n",
       "      <td>0</td>\n",
       "      <td>0</td>\n",
       "      <td>1</td>\n",
       "      <td>0</td>\n",
       "      <td>0</td>\n",
       "      <td>0</td>\n",
       "      <td>0</td>\n",
       "      <td>0</td>\n",
       "      <td>1</td>\n",
       "      <td>0</td>\n",
       "      <td>1</td>\n",
       "    </tr>\n",
       "    <tr>\n",
       "      <th>2</th>\n",
       "      <td>18</td>\n",
       "      <td>1</td>\n",
       "      <td>0</td>\n",
       "      <td>3</td>\n",
       "      <td>24</td>\n",
       "      <td>0</td>\n",
       "      <td>0</td>\n",
       "      <td>1</td>\n",
       "      <td>0</td>\n",
       "      <td>1</td>\n",
       "      <td>0</td>\n",
       "      <td>1</td>\n",
       "    </tr>\n",
       "    <tr>\n",
       "      <th>3</th>\n",
       "      <td>18</td>\n",
       "      <td>1</td>\n",
       "      <td>0</td>\n",
       "      <td>4</td>\n",
       "      <td>16</td>\n",
       "      <td>0</td>\n",
       "      <td>0</td>\n",
       "      <td>0</td>\n",
       "      <td>0</td>\n",
       "      <td>1</td>\n",
       "      <td>0</td>\n",
       "      <td>1</td>\n",
       "    </tr>\n",
       "    <tr>\n",
       "      <th>4</th>\n",
       "      <td>19</td>\n",
       "      <td>1</td>\n",
       "      <td>0</td>\n",
       "      <td>1</td>\n",
       "      <td>0</td>\n",
       "      <td>0</td>\n",
       "      <td>0</td>\n",
       "      <td>1</td>\n",
       "      <td>1</td>\n",
       "      <td>1</td>\n",
       "      <td>0</td>\n",
       "      <td>1</td>\n",
       "    </tr>\n",
       "    <tr>\n",
       "      <th>5</th>\n",
       "      <td>19</td>\n",
       "      <td>1</td>\n",
       "      <td>2</td>\n",
       "      <td>1</td>\n",
       "      <td>0</td>\n",
       "      <td>0</td>\n",
       "      <td>0</td>\n",
       "      <td>0</td>\n",
       "      <td>0</td>\n",
       "      <td>1</td>\n",
       "      <td>1</td>\n",
       "      <td>1</td>\n",
       "    </tr>\n",
       "    <tr>\n",
       "      <th>...</th>\n",
       "      <td>...</td>\n",
       "      <td>...</td>\n",
       "      <td>...</td>\n",
       "      <td>...</td>\n",
       "      <td>...</td>\n",
       "      <td>...</td>\n",
       "      <td>...</td>\n",
       "      <td>...</td>\n",
       "      <td>...</td>\n",
       "      <td>...</td>\n",
       "      <td>...</td>\n",
       "      <td>...</td>\n",
       "    </tr>\n",
       "    <tr>\n",
       "      <th>196</th>\n",
       "      <td>68</td>\n",
       "      <td>1</td>\n",
       "      <td>1</td>\n",
       "      <td>1</td>\n",
       "      <td>0</td>\n",
       "      <td>0</td>\n",
       "      <td>1</td>\n",
       "      <td>0</td>\n",
       "      <td>1</td>\n",
       "      <td>1</td>\n",
       "      <td>0</td>\n",
       "      <td>0</td>\n",
       "    </tr>\n",
       "    <tr>\n",
       "      <th>197</th>\n",
       "      <td>71</td>\n",
       "      <td>1</td>\n",
       "      <td>1</td>\n",
       "      <td>1</td>\n",
       "      <td>8</td>\n",
       "      <td>1</td>\n",
       "      <td>1</td>\n",
       "      <td>1</td>\n",
       "      <td>0</td>\n",
       "      <td>0</td>\n",
       "      <td>0</td>\n",
       "      <td>1</td>\n",
       "    </tr>\n",
       "    <tr>\n",
       "      <th>198</th>\n",
       "      <td>76</td>\n",
       "      <td>0</td>\n",
       "      <td>2</td>\n",
       "      <td>1</td>\n",
       "      <td>0</td>\n",
       "      <td>1</td>\n",
       "      <td>1</td>\n",
       "      <td>1</td>\n",
       "      <td>0</td>\n",
       "      <td>1</td>\n",
       "      <td>0</td>\n",
       "      <td>0</td>\n",
       "    </tr>\n",
       "    <tr>\n",
       "      <th>199</th>\n",
       "      <td>82</td>\n",
       "      <td>1</td>\n",
       "      <td>2</td>\n",
       "      <td>1</td>\n",
       "      <td>0</td>\n",
       "      <td>1</td>\n",
       "      <td>1</td>\n",
       "      <td>0</td>\n",
       "      <td>1</td>\n",
       "      <td>0</td>\n",
       "      <td>1</td>\n",
       "      <td>1</td>\n",
       "    </tr>\n",
       "    <tr>\n",
       "      <th>200</th>\n",
       "      <td>85</td>\n",
       "      <td>1</td>\n",
       "      <td>2</td>\n",
       "      <td>1</td>\n",
       "      <td>0</td>\n",
       "      <td>1</td>\n",
       "      <td>0</td>\n",
       "      <td>0</td>\n",
       "      <td>1</td>\n",
       "      <td>1</td>\n",
       "      <td>0</td>\n",
       "      <td>1</td>\n",
       "    </tr>\n",
       "  </tbody>\n",
       "</table>\n",
       "<p>200 rows × 12 columns</p>\n",
       "</div>"
      ],
      "text/plain": [
       "          age  sex  rurality  household  water  food  medication  tools  \\\n",
       "zombieid                                                                  \n",
       "1          18    0         0          1      0     0           0      0   \n",
       "2          18    1         0          3     24     0           0      1   \n",
       "3          18    1         0          4     16     0           0      0   \n",
       "4          19    1         0          1      0     0           0      1   \n",
       "5          19    1         2          1      0     0           0      0   \n",
       "...       ...  ...       ...        ...    ...   ...         ...    ...   \n",
       "196        68    1         1          1      0     0           1      0   \n",
       "197        71    1         1          1      8     1           1      1   \n",
       "198        76    0         2          1      0     1           1      1   \n",
       "199        82    1         2          1      0     1           1      0   \n",
       "200        85    1         2          1      0     1           0      0   \n",
       "\n",
       "          firstaid  sanitation  clothing  documents  \n",
       "zombieid                                             \n",
       "1                0           1         0          1  \n",
       "2                0           1         0          1  \n",
       "3                0           1         0          1  \n",
       "4                1           1         0          1  \n",
       "5                0           1         1          1  \n",
       "...            ...         ...       ...        ...  \n",
       "196              1           1         0          0  \n",
       "197              0           0         0          1  \n",
       "198              0           1         0          0  \n",
       "199              1           0         1          1  \n",
       "200              1           1         0          1  \n",
       "\n",
       "[200 rows x 12 columns]"
      ]
     },
     "execution_count": 15,
     "metadata": {},
     "output_type": "execute_result"
    }
   ],
   "source": [
    "#Features\n",
    "X"
   ]
  },
  {
   "cell_type": "code",
   "execution_count": 16,
   "id": "bc11e1c7",
   "metadata": {
    "scrolled": true
   },
   "outputs": [
    {
     "data": {
      "text/plain": [
       "zombieid\n",
       "1       Human\n",
       "2       Human\n",
       "3       Human\n",
       "4       Human\n",
       "5       Human\n",
       "        ...  \n",
       "196    Zombie\n",
       "197    Zombie\n",
       "198    Zombie\n",
       "199    Zombie\n",
       "200    Zombie\n",
       "Name: zombie, Length: 200, dtype: object"
      ]
     },
     "execution_count": 16,
     "metadata": {},
     "output_type": "execute_result"
    }
   ],
   "source": [
    "#Target Variable\n",
    "y"
   ]
  },
  {
   "cell_type": "code",
   "execution_count": 271,
   "id": "14042d26",
   "metadata": {},
   "outputs": [],
   "source": [
    "# Splitting the data into train and test sets\n",
    "X_train, X_test, y_train, y_test = train_test_split(X, y, test_size=0.2, random_state=1)"
   ]
  },
  {
   "cell_type": "code",
   "execution_count": 272,
   "id": "9031cff4",
   "metadata": {},
   "outputs": [
    {
     "name": "stdout",
     "output_type": "stream",
     "text": [
      "Model: LogisticRegression\n",
      "Accuracy score: 0.97\n",
      "Classification report:\n",
      "              precision    recall  f1-score   support\n",
      "\n",
      "       Human       1.00      0.96      0.98        26\n",
      "      Zombie       0.93      1.00      0.97        14\n",
      "\n",
      "    accuracy                           0.97        40\n",
      "   macro avg       0.97      0.98      0.97        40\n",
      "weighted avg       0.98      0.97      0.98        40\n",
      "\n",
      "\n",
      "Model: DecisionTreeClassifier\n",
      "Accuracy score: 0.85\n",
      "Classification report:\n",
      "              precision    recall  f1-score   support\n",
      "\n",
      "       Human       0.95      0.81      0.88        26\n",
      "      Zombie       0.72      0.93      0.81        14\n",
      "\n",
      "    accuracy                           0.85        40\n",
      "   macro avg       0.84      0.87      0.84        40\n",
      "weighted avg       0.87      0.85      0.85        40\n",
      "\n",
      "\n",
      "Model: RandomForestClassifier\n",
      "Accuracy score: 0.93\n",
      "Classification report:\n",
      "              precision    recall  f1-score   support\n",
      "\n",
      "       Human       1.00      0.88      0.94        26\n",
      "      Zombie       0.82      1.00      0.90        14\n",
      "\n",
      "    accuracy                           0.93        40\n",
      "   macro avg       0.91      0.94      0.92        40\n",
      "weighted avg       0.94      0.93      0.93        40\n",
      "\n",
      "\n",
      "Model: SVC\n",
      "Accuracy score: 0.80\n",
      "Classification report:\n",
      "              precision    recall  f1-score   support\n",
      "\n",
      "       Human       0.82      0.88      0.85        26\n",
      "      Zombie       0.75      0.64      0.69        14\n",
      "\n",
      "    accuracy                           0.80        40\n",
      "   macro avg       0.79      0.76      0.77        40\n",
      "weighted avg       0.80      0.80      0.80        40\n",
      "\n",
      "\n"
     ]
    }
   ],
   "source": [
    "# Defining the models\n",
    "lr = LogisticRegression()\n",
    "dt = DecisionTreeClassifier()\n",
    "rf = RandomForestClassifier()\n",
    "svm = SVC()\n",
    "\n",
    "# Training and predicting with each model\n",
    "for model in [lr, dt, rf, svm]:\n",
    "    model.fit(X_train, y_train)\n",
    "    y_pred = model.predict(X_test)\n",
    "    \n",
    "    # Evaluating the model\n",
    "    acc_score = accuracy_score(y_test, y_pred)\n",
    "    clf_report = classification_report(y_test, y_pred)\n",
    "    \n",
    "    print(f'Model: {type(model).__name__}')\n",
    "    print(f'Accuracy score: {acc_score:.2f}')\n",
    "    print(f'Classification report:\\n{clf_report}\\n')"
   ]
  },
  {
   "cell_type": "code",
   "execution_count": 273,
   "id": "71423410",
   "metadata": {},
   "outputs": [
    {
     "name": "stdout",
     "output_type": "stream",
     "text": [
      "['Human']\n"
     ]
    }
   ],
   "source": [
    "y_pred = lr.predict([[18,0,0,1,0,0,0,0,0,1,0,1]])\n",
    "print(y_pred)"
   ]
  },
  {
   "cell_type": "markdown",
   "id": "147a5f73",
   "metadata": {},
   "source": [
    "# Pickle file"
   ]
  },
  {
   "cell_type": "code",
   "execution_count": 131,
   "id": "b14780a0",
   "metadata": {},
   "outputs": [],
   "source": [
    "filename = 'model.pkl'\n",
    "pickle.dump(lr,open(filename,'wb'))"
   ]
  }
 ],
 "metadata": {
  "kernelspec": {
   "display_name": "Python 3 (ipykernel)",
   "language": "python",
   "name": "python3"
  },
  "language_info": {
   "codemirror_mode": {
    "name": "ipython",
    "version": 3
   },
   "file_extension": ".py",
   "mimetype": "text/x-python",
   "name": "python",
   "nbconvert_exporter": "python",
   "pygments_lexer": "ipython3",
   "version": "3.9.13"
  }
 },
 "nbformat": 4,
 "nbformat_minor": 5
}
